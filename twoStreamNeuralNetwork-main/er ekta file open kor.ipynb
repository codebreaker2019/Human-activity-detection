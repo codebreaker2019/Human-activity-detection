{
 "cells": [
  {
   "cell_type": "code",
   "execution_count": 1,
   "id": "interesting-thursday",
   "metadata": {},
   "outputs": [],
   "source": [
    "# set the matplotlib backend so figures can be saved in the background\n",
    "#import matplotlib\n",
    "#matplotlib.use(\"Agg\")\n",
    "#import the necessary packages\n",
    "from tensorflow.keras.preprocessing.image import ImageDataGenerator\n",
    "from tensorflow.keras.layers import AveragePooling2D\n",
    "from tensorflow.keras.applications import ResNet50\n",
    "from tensorflow.keras.layers import Dropout\n",
    "from tensorflow.keras.layers import Flatten\n",
    "from tensorflow.keras.layers import Dense\n",
    "from tensorflow.keras.layers import Input\n",
    "from tensorflow.keras.models import Model\n",
    "from tensorflow.keras.optimizers import SGD\n",
    "from sklearn.preprocessing import LabelBinarizer\n",
    "from sklearn.model_selection import train_test_split\n",
    "from tensorflow.keras.layers import Dense\n",
    "from tensorflow.keras.models import Model\n",
    "from tensorflow.keras.optimizers import Adam\n",
    "from tensorflow.keras.layers import concatenate\n",
    "from keras.layers.merge import concatenate\n",
    "from keras.models import Model, Sequential\n",
    "from keras.layers import Dense, Input\n",
    "from sklearn.metrics import classification_report\n",
    "from keras.layers import Dense, LSTM\n",
    "\n",
    "from tensorflow.keras.layers import Dense\n",
    "from tensorflow.keras.models import Model\n",
    "from tensorflow.keras.optimizers import Adam\n",
    "from tensorflow.keras.layers import concatenate\n",
    "#from google.colab.patches import cv2_imshow\n",
    "#from imutils import paths\n",
    "import matplotlib.pyplot as plt\n",
    "import numpy as np\n",
    "import argparse\n",
    "import pickle\n",
    "import cv2 as cv \n",
    "import os\n",
    "import json\n",
    "import pickle\n",
    "import tensorflow as tf\n",
    "from tensorflow import keras"
   ]
  },
  {
   "cell_type": "code",
   "execution_count": 2,
   "id": "checked-activity",
   "metadata": {},
   "outputs": [
    {
     "name": "stdout",
     "output_type": "stream",
     "text": [
      "joints_array= (11082, 72, 25, 3)\n",
      "labels= (11082, 100)\n",
      "featchers_array (11082, 7, 72)\n"
     ]
    }
   ],
   "source": [
    "### JOINTS FEATCHERS CODE #####\n",
    "\n",
    "\n",
    "path='E:/two stream final/'\n",
    "import numpy as np\n",
    "file1=open(path+\"jointsFile\",\"rb\")\n",
    "file2 = open(path+\"levelFile\", \"rb\")\n",
    "with open(path+'featcherFile', 'rb') as file3:\n",
    "    featchers_array=pickle.load(file3)\n",
    "    \n",
    "joints_array= np.load(file1)\n",
    "labels= np.load(file2)\n",
    "\n",
    "print(\"joints_array=\",joints_array.shape)\n",
    "print(\"labels=\",labels.shape)\n",
    "print(\"featchers_array\",featchers_array.shape)\n"
   ]
  },
  {
   "cell_type": "code",
   "execution_count": 3,
   "id": "dense-fighter",
   "metadata": {},
   "outputs": [
    {
     "name": "stdout",
     "output_type": "stream",
     "text": [
      "(8311, 7, 72)\n"
     ]
    }
   ],
   "source": [
    "(trainFeatcherX, testFeatcherX, trainFeLabelY, testFeLabelY) = train_test_split(featchers_array,labels,\n",
    "\ttest_size=0.25 , random_state=42)\n",
    "print(trainFeatcherX.shape)"
   ]
  },
  {
   "cell_type": "code",
   "execution_count": 4,
   "id": "portable-houston",
   "metadata": {},
   "outputs": [],
   "source": [
    "# define our LSTM network\n",
    "model1 = keras.Sequential()\n",
    "model1.add(keras.Input(shape=(7,72)))\n",
    "model1.add(LSTM(32))\n",
    "model1.add(Dense(8, activation=\"relu\"))\n",
    "model1.add(Dense(4, activation=\"relu\"))\n",
    "model1.add(Dense(1, activation=\"linear\"))\n",
    "\n",
    "\n",
    "   \n"
   ]
  },
  {
   "cell_type": "code",
   "execution_count": 5,
   "id": "republican-analysis",
   "metadata": {},
   "outputs": [
    {
     "ename": "MemoryError",
     "evalue": "",
     "output_type": "error",
     "traceback": [
      "\u001b[1;31m---------------------------------------------------------------------------\u001b[0m",
      "\u001b[1;31mMemoryError\u001b[0m                               Traceback (most recent call last)",
      "\u001b[1;32m<ipython-input-5-6700afe25cbb>\u001b[0m in \u001b[0;36m<module>\u001b[1;34m\u001b[0m\n\u001b[0;32m      4\u001b[0m \u001b[1;33m\u001b[0m\u001b[0m\n\u001b[0;32m      5\u001b[0m \u001b[1;32mwith\u001b[0m \u001b[0mopen\u001b[0m\u001b[1;33m(\u001b[0m\u001b[0mpath\u001b[0m\u001b[1;33m+\u001b[0m\u001b[1;34m'ALL_OPTICAL_IMAGE.data'\u001b[0m\u001b[1;33m,\u001b[0m \u001b[1;34m'rb'\u001b[0m\u001b[1;33m)\u001b[0m \u001b[1;32mas\u001b[0m \u001b[0mf\u001b[0m\u001b[1;33m:\u001b[0m\u001b[1;33m\u001b[0m\u001b[1;33m\u001b[0m\u001b[0m\n\u001b[1;32m----> 6\u001b[1;33m     \u001b[0moptical_images\u001b[0m\u001b[1;33m=\u001b[0m\u001b[0mpickle\u001b[0m\u001b[1;33m.\u001b[0m\u001b[0mload\u001b[0m\u001b[1;33m(\u001b[0m \u001b[0mf\u001b[0m\u001b[1;33m)\u001b[0m\u001b[1;33m\u001b[0m\u001b[1;33m\u001b[0m\u001b[0m\n\u001b[0m\u001b[0;32m      7\u001b[0m \u001b[1;33m\u001b[0m\u001b[0m\n\u001b[0;32m      8\u001b[0m \u001b[1;33m\u001b[0m\u001b[0m\n",
      "\u001b[1;31mMemoryError\u001b[0m: "
     ]
    }
   ],
   "source": [
    "#### OPTICAL FLOW CODE#####\n",
    "with open(path+'Label.data', 'rb') as l:\n",
    "    Optical_image_lables=pickle.load(l)\n",
    "    \n",
    "with open(path+'ALL_OPTICAL_IMAGE.data', 'rb') as f:\n",
    "    optical_images=pickle.load( f)\n",
    "\n",
    "\n",
    "### ONE HOT ENCODING ####\n",
    "Optical_image_lables = np.asarray(Optical_image_lables)\n",
    "#lb = LabelBinarizer()\n",
    "#Optical_image_lables = lb.fit_transform(Optical_image_lables)\n",
    "\n",
    "print(\"optical_images=\",optical_images.shape)\n",
    "print(\"Optical_image_lables=\",Optical_image_lables.shape)\n"
   ]
  },
  {
   "cell_type": "code",
   "execution_count": null,
   "id": "studied-injection",
   "metadata": {},
   "outputs": [],
   "source": []
  }
 ],
 "metadata": {
  "kernelspec": {
   "display_name": "Python 3",
   "language": "python",
   "name": "python3"
  },
  "language_info": {
   "codemirror_mode": {
    "name": "ipython",
    "version": 3
   },
   "file_extension": ".py",
   "mimetype": "text/x-python",
   "name": "python",
   "nbconvert_exporter": "python",
   "pygments_lexer": "ipython3",
   "version": "3.8.5"
  }
 },
 "nbformat": 4,
 "nbformat_minor": 5
}
